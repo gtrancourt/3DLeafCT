{
 "cells": [
  {
   "cell_type": "markdown",
   "metadata": {},
   "source": [
    "## Post-processing script for 3DLeafSeg\n",
    "\n",
    "#### Last edited by: M. Jenkins\n",
    "#### Date:  03/04/2018"
   ]
  },
  {
   "cell_type": "code",
   "execution_count": 1,
   "metadata": {
    "collapsed": true
   },
   "outputs": [],
   "source": [
    "# Import libraries\n",
    "import matplotlib.pyplot as plt\n",
    "import numpy as np\n",
    "import scipy\n",
    "import skimage\n",
    "from skimage import io\n",
    "from skimage.transform import rescale\n",
    "from skimage.morphology import remove_small_objects\n",
    "from scipy.ndimage.morphology import distance_transform_edt\n",
    "from scipy.ndimage.filters import maximum_filter, median_filter, minimum_filter, percentile_filter"
   ]
  },
  {
   "cell_type": "code",
   "execution_count": 2,
   "metadata": {},
   "outputs": [
    {
     "data": {
      "image/png": "[encoded data removed]",
      "text/plain": [
       "<matplotlib.figure.Figure at 0x114a6f390>"
      ]
     },
     "metadata": {},
     "output_type": "display_data"
    }
   ],
   "source": [
    "# Import full stack prediction from ML algorithm\n",
    "filepath = '../../../ML_microCT/results/'\n",
    "results_folder = 'test2_invert_starch'\n",
    "img = io.imread(filepath+results_folder+'/fullstack_prediction.tif')\n",
    "io.imshow(img[20,:,:])\n",
    "io.show()"
   ]
  },
  {
   "cell_type": "code",
   "execution_count": 3,
   "metadata": {
    "collapsed": true
   },
   "outputs": [],
   "source": [
    "# Remove 'dangling' epidermal pixels\n",
    "epid = (img==182)\n",
    "epid_rmv_parts = np.array(epid, copy=True)\n",
    "for i in range(0,epid_rmv_parts.shape[0]):\n",
    "    epid_rmv_parts[i,:,:] = remove_small_objects(epid[i,:,:], min_size=800)\n",
    "\n",
    "# Write an array of just the removed particles\n",
    "epid_parts = epid ^ epid_rmv_parts \n",
    "\n",
    "# Replace the small connected epidermal particles (< 800 px^2) with BG value\n",
    "img[epid_parts==1] = 0\n",
    "\n",
    "# Free up some memory\n",
    "del epid_rmv_parts\n",
    "del epid"
   ]
  },
  {
   "cell_type": "code",
   "execution_count": 4,
   "metadata": {
    "collapsed": true
   },
   "outputs": [],
   "source": [
    "# Define 3D array of distances from lower and upper epidermises\n",
    "a = range(0,img.shape[1])\n",
    "b = np.tile(a,(img.shape[2],img.shape[0],1))\n",
    "b = np.moveaxis(b,[0,1,2],[2,0,1])\n",
    "\n",
    "# Determine the lower edge of the spongy/palisade mesophyll\n",
    "c = (img==146)\n",
    "d = (b*c)\n",
    "m_low = np.argmax(d, axis=1)\n",
    "        \n",
    "# Determine the lower edge of the vascular bundle\n",
    "c = (img==146)\n",
    "d = (b*c)\n",
    "v_low = np.argmax(d, axis=1)\n",
    "\n",
    "# Determine the lower edge of the epidermis\n",
    "c = (img==182)\n",
    "d = (b*c)\n",
    "e_low = np.argmax(d, axis=1)\n",
    "e_low = np.maximum(e_low, m_low) # Checks if mesophyll cells are below lower epidermis\n",
    "                                 # Changes lowest mesophyll pixel to epidermal class\n",
    "e_low = np.maximum(e_low, v_low) # Similar to above, but with vascular bundle\n",
    "epi_low = np.zeros(img.shape)\n",
    "for z in range(0,epi_low.shape[0]):\n",
    "    for x in range(0,epi_low.shape[2]):\n",
    "        epi_low[z,e_low[z,x],x] = 1\n",
    "\n",
    "# Determine the upper edge of the epidermis\n",
    "b2 = np.flip(b,1)\n",
    "d = (b2*c)\n",
    "e_up = np.argmax(d, axis=1)\n",
    "epi_up = np.zeros(img.shape)\n",
    "for z in range(0,epi_up.shape[0]):\n",
    "    for x in range(0,epi_up.shape[2]):\n",
    "        epi_up[z,e_up[z,x],x] = 1\n",
    "\n",
    "# Combine the lower and upper edge of epidermis into a single numpy array\n",
    "epi_both = epi_up + epi_low"
   ]
  },
  {
   "cell_type": "code",
   "execution_count": 5,
   "metadata": {
    "collapsed": true
   },
   "outputs": [],
   "source": [
    "# Generate a binary stack with the pixels inside the epidermis set equal to 1\n",
    "epi_in = np.zeros(img.shape, dtype=np.uint16)\n",
    "for y in range(0,epi_in.shape[2]):\n",
    "    for z in range(0,epi_in.shape[0]):\n",
    "        epi_in[z,e_up[z,y]:e_low[z,y],y] = 1\n",
    "        \n",
    "# Generate a binary stack with the pixels outside the epidermis set equal to 1\n",
    "epi_out = (epi_in==0)*1"
   ]
  },
  {
   "cell_type": "code",
   "execution_count": 6,
   "metadata": {
    "collapsed": true
   },
   "outputs": [],
   "source": [
    "# Set all background identified as BG that lies within epidermal boundaries as IAS\n",
    "# Set all background identified as IAS that lies outside epidermal boundaries as BG\n",
    "img2 = np.array(img, copy=True)\n",
    "img2[(img2==219)*(epi_out==1)] = 0\n",
    "img2[(img2==0)*(epi_in==1)] = 219"
   ]
  },
  {
   "cell_type": "code",
   "execution_count": 7,
   "metadata": {
    "collapsed": true
   },
   "outputs": [],
   "source": [
    "# Define filters for clipping off artefactual IAS protrusions due to dangling epidermis\n",
    "def dbl_pct_filt(arr):\n",
    "    out = percentile_filter(\n",
    "        percentile_filter(\n",
    "            arr, \n",
    "            size=30, \n",
    "            percentile=10),\n",
    "        size=30,percentile=90)\n",
    "    return(out)\n",
    "\n",
    "def min_max_filt(arr):\n",
    "    out = minimum_filter(\n",
    "        maximum_filter(arr,20),\n",
    "        20)\n",
    "    return out"
   ]
  },
  {
   "cell_type": "code",
   "execution_count": 8,
   "metadata": {
    "collapsed": true
   },
   "outputs": [],
   "source": [
    "# Define 3D array of distances from lower and upper epidermises\n",
    "a = range(0,img2.shape[1])\n",
    "b = np.tile(a,(img2.shape[2],img2.shape[0],1))\n",
    "b = np.moveaxis(b,[0,1,2],[2,0,1])\n",
    "\n",
    "# Determine the lower edge of the spongy/palisade mesophyll\n",
    "c = (img2==146)\n",
    "d = (b*c)\n",
    "m_low = np.argmax(d, axis=1)\n",
    "\n",
    "# Determine the lower edge of the epidermis\n",
    "c = (img2==182)\n",
    "d = (b*c)\n",
    "e_low = np.argmax(d, axis=1)\n",
    "e_low = np.maximum(e_low, m_low) # Checks if mesophyll cells are below lower epidermis\n",
    "e_low = np.apply_along_axis(dbl_pct_filt, 0, arr = e_low)\n",
    "e_low = np.apply_along_axis(min_max_filt, 0, arr = e_low)\n",
    "e_low = np.apply_along_axis(min_max_filt, 0, arr = e_low)\n",
    "epi_low = np.zeros(img2.shape)\n",
    "for z in range(0,epi_low.shape[0]):\n",
    "    for x in range(0,epi_low.shape[2]):\n",
    "        epi_low[z,e_low[z,x],x] = 1\n",
    "\n",
    "# Determine the upper edge of the epidermis\n",
    "b2 = np.flip(b,1)\n",
    "d = (b2*c)\n",
    "e_up = np.argmax(d, axis=1)\n",
    "epi_up = np.zeros(img2.shape)\n",
    "for z in range(0,epi_up.shape[0]):\n",
    "    for x in range(0,epi_up.shape[2]):\n",
    "        epi_up[z,e_up[z,x],x] = 1\n",
    "\n",
    "# Combine the lower and upper edge of epidermis into a single numpy array\n",
    "epi_both = epi_up + epi_low"
   ]
  },
  {
   "cell_type": "code",
   "execution_count": 9,
   "metadata": {
    "collapsed": true
   },
   "outputs": [],
   "source": [
    "# Generate a binary stack with the pixels inside the epidermis set equal to 1\n",
    "epi_in = np.zeros(img.shape, dtype=np.uint16)\n",
    "for y in range(0,epi_in.shape[2]):\n",
    "    for z in range(0,epi_in.shape[0]):\n",
    "        epi_in[z,e_up[z,y]:e_low[z,y],y] = 1\n",
    "        \n",
    "# Generate a binary stack with the pixels outside the epidermis set equal to 1\n",
    "epi_out = (epi_in==0)*1"
   ]
  },
  {
   "cell_type": "code",
   "execution_count": 10,
   "metadata": {
    "collapsed": true
   },
   "outputs": [],
   "source": [
    "# Set all background identified as BG that lies within epidermal boundaries as IAS\n",
    "# Set all background identified as IAS that lies outside epidermal boundaries as BG\n",
    "img3 = np.array(img2, copy=True)\n",
    "img3[(img3==219)*(epi_out==1)] = 0\n",
    "img3[(img3==0)*(epi_in==1)] = 219"
   ]
  },
  {
   "cell_type": "code",
   "execution_count": 11,
   "metadata": {},
   "outputs": [
    {
     "data": {
      "image/png": "[encoded data removed]",
      "text/plain": [
       "<matplotlib.figure.Figure at 0x10ae12e90>"
      ]
     },
     "metadata": {},
     "output_type": "display_data"
    },
    {
     "data": {
      "image/png": "[encoded data removed]",
      "text/plain": [
       "<matplotlib.figure.Figure at 0x114f66650>"
      ]
     },
     "metadata": {},
     "output_type": "display_data"
    },
    {
     "data": {
      "image/png": "[encoded data removed]",
      "text/plain": [
       "<matplotlib.figure.Figure at 0x11673bfd0>"
      ]
     },
     "metadata": {},
     "output_type": "display_data"
    }
   ],
   "source": [
    "slice = 20\n",
    "io.imshow(img[slice,:,:])\n",
    "io.show()\n",
    "io.imshow(img2[slice,:,:])\n",
    "io.show()\n",
    "io.imshow(img3[slice,:,:])\n",
    "io.show()"
   ]
  },
  {
   "cell_type": "code",
   "execution_count": 12,
   "metadata": {
    "collapsed": true
   },
   "outputs": [],
   "source": [
    "# Save post-processed predicted stack\n",
    "io.imsave(filepath+results_folder+'/prediction_postprocess6.tif', img3)"
   ]
  },
  {
   "cell_type": "code",
   "execution_count": null,
   "metadata": {
    "collapsed": true
   },
   "outputs": [],
   "source": []
  }
 ],
 "metadata": {
  "kernelspec": {
   "display_name": "Python 2",
   "language": "python",
   "name": "python2"
  },
  "language_info": {
   "codemirror_mode": {
    "name": "ipython",
    "version": 2
   },
   "file_extension": ".py",
   "mimetype": "text/x-python",
   "name": "python",
   "nbconvert_exporter": "python",
   "pygments_lexer": "ipython2",
   "version": "2.7.14"
  }
 },
 "nbformat": 4,
 "nbformat_minor": 2
}
