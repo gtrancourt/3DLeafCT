{
 "cells": [
  {
   "cell_type": "markdown",
   "metadata": {},
   "source": [
    "## Post-processing script for 3DLeafSeg\n",
    "\n",
    "#### Last edited by: J. Mason Earles\n",
    "#### Date:  03/01/2018"
   ]
  },
  {
   "cell_type": "code",
   "execution_count": 1,
   "metadata": {
    "collapsed": true
   },
   "outputs": [],
   "source": [
    "# Import libraries\n",
    "import matplotlib.pyplot as plt\n",
    "import numpy as np\n",
    "import scipy\n",
    "import skimage\n",
    "from skimage import io\n",
    "from skimage.transform import rescale\n",
    "from skimage.morphology import remove_small_objects\n",
    "from scipy.ndimage.morphology import distance_transform_edt\n",
    "from scipy.ndimage.filters import maximum_filter, median_filter, minimum_filter, percentile_filter"
   ]
  },
  {
   "cell_type": "code",
   "execution_count": 2,
   "metadata": {},
   "outputs": [
    {
     "ename": "IOError",
     "evalue": "[Errno 2] No such file or directory: '../../../ML_microCT/results/test2_invert_starchfullstack_prediction.tif'",
     "output_type": "error",
     "traceback": [
      "\u001b[0;31m---------------------------------------------------------------------------\u001b[0m",
      "\u001b[0;31mIOError\u001b[0m                                   Traceback (most recent call last)",
      "\u001b[0;32m<ipython-input-2-117153671228>\u001b[0m in \u001b[0;36m<module>\u001b[0;34m()\u001b[0m\n\u001b[1;32m      2\u001b[0m \u001b[0mfilepath\u001b[0m \u001b[0;34m=\u001b[0m \u001b[0;34m'../../../ML_microCT/results/'\u001b[0m\u001b[0;34m\u001b[0m\u001b[0m\n\u001b[1;32m      3\u001b[0m \u001b[0mresults_folder\u001b[0m \u001b[0;34m=\u001b[0m \u001b[0;34m'test2_invert_starch'\u001b[0m\u001b[0;34m\u001b[0m\u001b[0m\n\u001b[0;32m----> 4\u001b[0;31m \u001b[0mimg\u001b[0m \u001b[0;34m=\u001b[0m \u001b[0mio\u001b[0m\u001b[0;34m.\u001b[0m\u001b[0mimread\u001b[0m\u001b[0;34m(\u001b[0m\u001b[0mfilepath\u001b[0m\u001b[0;34m+\u001b[0m\u001b[0mresults_folder\u001b[0m\u001b[0;34m+\u001b[0m\u001b[0;34m'fullstack_prediction.tif'\u001b[0m\u001b[0;34m)\u001b[0m\u001b[0;34m\u001b[0m\u001b[0m\n\u001b[0m\u001b[1;32m      5\u001b[0m \u001b[0mio\u001b[0m\u001b[0;34m.\u001b[0m\u001b[0mimshow\u001b[0m\u001b[0;34m(\u001b[0m\u001b[0mimg\u001b[0m\u001b[0;34m[\u001b[0m\u001b[0;36m20\u001b[0m\u001b[0;34m,\u001b[0m\u001b[0;34m:\u001b[0m\u001b[0;34m,\u001b[0m\u001b[0;34m:\u001b[0m\u001b[0;34m]\u001b[0m\u001b[0;34m)\u001b[0m\u001b[0;34m\u001b[0m\u001b[0m\n\u001b[1;32m      6\u001b[0m \u001b[0mio\u001b[0m\u001b[0;34m.\u001b[0m\u001b[0mshow\u001b[0m\u001b[0;34m(\u001b[0m\u001b[0;34m)\u001b[0m\u001b[0;34m\u001b[0m\u001b[0m\n",
      "\u001b[0;32m/Users/mattjenkins1/anaconda2/lib/python2.7/site-packages/skimage/io/_io.pyc\u001b[0m in \u001b[0;36mimread\u001b[0;34m(fname, as_grey, plugin, flatten, **plugin_args)\u001b[0m\n\u001b[1;32m     59\u001b[0m \u001b[0;34m\u001b[0m\u001b[0m\n\u001b[1;32m     60\u001b[0m     \u001b[0;32mwith\u001b[0m \u001b[0mfile_or_url_context\u001b[0m\u001b[0;34m(\u001b[0m\u001b[0mfname\u001b[0m\u001b[0;34m)\u001b[0m \u001b[0;32mas\u001b[0m \u001b[0mfname\u001b[0m\u001b[0;34m:\u001b[0m\u001b[0;34m\u001b[0m\u001b[0m\n\u001b[0;32m---> 61\u001b[0;31m         \u001b[0mimg\u001b[0m \u001b[0;34m=\u001b[0m \u001b[0mcall_plugin\u001b[0m\u001b[0;34m(\u001b[0m\u001b[0;34m'imread'\u001b[0m\u001b[0;34m,\u001b[0m \u001b[0mfname\u001b[0m\u001b[0;34m,\u001b[0m \u001b[0mplugin\u001b[0m\u001b[0;34m=\u001b[0m\u001b[0mplugin\u001b[0m\u001b[0;34m,\u001b[0m \u001b[0;34m**\u001b[0m\u001b[0mplugin_args\u001b[0m\u001b[0;34m)\u001b[0m\u001b[0;34m\u001b[0m\u001b[0m\n\u001b[0m\u001b[1;32m     62\u001b[0m \u001b[0;34m\u001b[0m\u001b[0m\n\u001b[1;32m     63\u001b[0m     \u001b[0;32mif\u001b[0m \u001b[0;32mnot\u001b[0m \u001b[0mhasattr\u001b[0m\u001b[0;34m(\u001b[0m\u001b[0mimg\u001b[0m\u001b[0;34m,\u001b[0m \u001b[0;34m'ndim'\u001b[0m\u001b[0;34m)\u001b[0m\u001b[0;34m:\u001b[0m\u001b[0;34m\u001b[0m\u001b[0m\n",
      "\u001b[0;32m/Users/mattjenkins1/anaconda2/lib/python2.7/site-packages/skimage/io/manage_plugins.pyc\u001b[0m in \u001b[0;36mcall_plugin\u001b[0;34m(kind, *args, **kwargs)\u001b[0m\n\u001b[1;32m    209\u001b[0m                                (plugin, kind))\n\u001b[1;32m    210\u001b[0m \u001b[0;34m\u001b[0m\u001b[0m\n\u001b[0;32m--> 211\u001b[0;31m     \u001b[0;32mreturn\u001b[0m \u001b[0mfunc\u001b[0m\u001b[0;34m(\u001b[0m\u001b[0;34m*\u001b[0m\u001b[0margs\u001b[0m\u001b[0;34m,\u001b[0m \u001b[0;34m**\u001b[0m\u001b[0mkwargs\u001b[0m\u001b[0;34m)\u001b[0m\u001b[0;34m\u001b[0m\u001b[0m\n\u001b[0m\u001b[1;32m    212\u001b[0m \u001b[0;34m\u001b[0m\u001b[0m\n\u001b[1;32m    213\u001b[0m \u001b[0;34m\u001b[0m\u001b[0m\n",
      "\u001b[0;32m/Users/mattjenkins1/anaconda2/lib/python2.7/site-packages/skimage/io/_plugins/tifffile_plugin.pyc\u001b[0m in \u001b[0;36mimread\u001b[0;34m(fname, dtype, **kwargs)\u001b[0m\n\u001b[1;32m     27\u001b[0m     \u001b[0;32mif\u001b[0m \u001b[0;34m'img_num'\u001b[0m \u001b[0;32min\u001b[0m \u001b[0mkwargs\u001b[0m\u001b[0;34m:\u001b[0m\u001b[0;34m\u001b[0m\u001b[0m\n\u001b[1;32m     28\u001b[0m         \u001b[0mkwargs\u001b[0m\u001b[0;34m[\u001b[0m\u001b[0;34m'key'\u001b[0m\u001b[0;34m]\u001b[0m \u001b[0;34m=\u001b[0m \u001b[0mkwargs\u001b[0m\u001b[0;34m.\u001b[0m\u001b[0mpop\u001b[0m\u001b[0;34m(\u001b[0m\u001b[0;34m'img_num'\u001b[0m\u001b[0;34m)\u001b[0m\u001b[0;34m\u001b[0m\u001b[0m\n\u001b[0;32m---> 29\u001b[0;31m     \u001b[0;32mwith\u001b[0m \u001b[0mopen\u001b[0m\u001b[0;34m(\u001b[0m\u001b[0mfname\u001b[0m\u001b[0;34m,\u001b[0m \u001b[0;34m'rb'\u001b[0m\u001b[0;34m)\u001b[0m \u001b[0;32mas\u001b[0m \u001b[0mf\u001b[0m\u001b[0;34m:\u001b[0m\u001b[0;34m\u001b[0m\u001b[0m\n\u001b[0m\u001b[1;32m     30\u001b[0m         \u001b[0mtif\u001b[0m \u001b[0;34m=\u001b[0m \u001b[0mTiffFile\u001b[0m\u001b[0;34m(\u001b[0m\u001b[0mf\u001b[0m\u001b[0;34m)\u001b[0m\u001b[0;34m\u001b[0m\u001b[0m\n\u001b[1;32m     31\u001b[0m         \u001b[0;32mreturn\u001b[0m \u001b[0mtif\u001b[0m\u001b[0;34m.\u001b[0m\u001b[0masarray\u001b[0m\u001b[0;34m(\u001b[0m\u001b[0;34m**\u001b[0m\u001b[0mkwargs\u001b[0m\u001b[0;34m)\u001b[0m\u001b[0;34m\u001b[0m\u001b[0m\n",
      "\u001b[0;31mIOError\u001b[0m: [Errno 2] No such file or directory: '../../../ML_microCT/results/test2_invert_starchfullstack_prediction.tif'"
     ]
    }
   ],
   "source": [
    "# Import full stack prediction from ML algorithm\n",
    "filepath = '../../../ML_microCT/results/'\n",
    "results_folder = 'test2_invert_starch'\n",
    "img = io.imread(filepath+results_folder+'/fullstack_prediction.tif')\n",
    "io.imshow(img[20,:,:])\n",
    "io.show()"
   ]
  },
  {
   "cell_type": "code",
   "execution_count": 100,
   "metadata": {
    "collapsed": true
   },
   "outputs": [],
   "source": [
    "# Remove 'dangling' epidermal pixels\n",
    "epid = (img==182)\n",
    "epid_rmv_parts = np.array(epid, copy=True)\n",
    "for i in range(0,epid_rmv_parts.shape[0]):\n",
    "    epid_rmv_parts[i,:,:] = remove_small_objects(epid[i,:,:], min_size=800)\n",
    "\n",
    "# Write an array of just the removed particles\n",
    "epid_parts = epid ^ epid_rmv_parts \n",
    "\n",
    "# Replace the small connected epidermal particles (< 800 px^2) with BG value\n",
    "img[epid_parts==1] = 0\n",
    "\n",
    "# Free up some memory\n",
    "del epid_rmv_parts\n",
    "del epid"
   ]
  },
  {
   "cell_type": "code",
   "execution_count": 104,
   "metadata": {
    "collapsed": true
   },
   "outputs": [],
   "source": [
    "# Define 3D array of distances from lower and upper epidermises\n",
    "a = range(0,img.shape[1])\n",
    "b = np.tile(a,(img.shape[2],img.shape[0],1))\n",
    "b = np.moveaxis(b,[0,1,2],[2,0,1])\n",
    "\n",
    "# Determine the lower edge of the spongy/palisade mesophyll\n",
    "c = (img==146)\n",
    "d = (b*c)\n",
    "m_low = np.argmax(d, axis=1)\n",
    "        \n",
    "# Determine the lower edge of the vascular bundle\n",
    "c = (img==146)\n",
    "d = (b*c)\n",
    "v_low = np.argmax(d, axis=1)\n",
    "\n",
    "# Determine the lower edge of the epidermis\n",
    "c = (img==182)\n",
    "d = (b*c)\n",
    "e_low = np.argmax(d, axis=1)\n",
    "e_low = np.maximum(e_low, m_low) # Checks if mesophyll cells are below lower epidermis\n",
    "                                 # Changes lowest mesophyll pixel to epidermal class\n",
    "e_low = np.maximum(e_low, v_low) # Similar to above, but with vascular bundle\n",
    "epi_low = np.zeros(img.shape)\n",
    "for z in range(0,epi_low.shape[0]):\n",
    "    for x in range(0,epi_low.shape[2]):\n",
    "        epi_low[z,e_low[z,x],x] = 1\n",
    "\n",
    "# Determine the upper edge of the epidermis\n",
    "b2 = np.flip(b,1)\n",
    "d = (b2*c)\n",
    "e_up = np.argmax(d, axis=1)\n",
    "epi_up = np.zeros(img.shape)\n",
    "for z in range(0,epi_up.shape[0]):\n",
    "    for x in range(0,epi_up.shape[2]):\n",
    "        epi_up[z,e_up[z,x],x] = 1\n",
    "\n",
    "# Combine the lower and upper edge of epidermis into a single numpy array\n",
    "epi_both = epi_up + epi_low"
   ]
  },
  {
   "cell_type": "code",
   "execution_count": 105,
   "metadata": {
    "collapsed": true
   },
   "outputs": [],
   "source": [
    "# Generate a binary stack with the pixels inside the epidermis set equal to 1\n",
    "epi_in = np.zeros(img.shape, dtype=np.uint16)\n",
    "for y in range(0,epi_in.shape[2]):\n",
    "    for z in range(0,epi_in.shape[0]):\n",
    "        epi_in[z,e_up[z,y]:e_low[z,y],y] = 1\n",
    "        \n",
    "# Generate a binary stack with the pixels outside the epidermis set equal to 1\n",
    "epi_out = (epi_in==0)*1"
   ]
  },
  {
   "cell_type": "code",
   "execution_count": 106,
   "metadata": {
    "collapsed": true
   },
   "outputs": [],
   "source": [
    "# Set all background identified as BG that lies within epidermal boundaries as IAS\n",
    "# Set all background identified as IAS that lies outside epidermal boundaries as BG\n",
    "img2 = np.array(img, copy=True)\n",
    "img2[(img2==219)*(epi_out==1)] = 0\n",
    "img2[(img2==0)*(epi_in==1)] = 219"
   ]
  },
  {
   "cell_type": "code",
   "execution_count": 119,
   "metadata": {
    "collapsed": true
   },
   "outputs": [],
   "source": [
    "# Define filters for clipping off artefactual IAS protrusions due to dangling epidermis\n",
    "def dbl_pct_filt(arr):\n",
    "    out = percentile_filter(\n",
    "        percentile_filter(\n",
    "            arr, \n",
    "            size=30, \n",
    "            percentile=10),\n",
    "        size=30,percentile=90)\n",
    "    return(out)\n",
    "\n",
    "def min_max_filt(arr):\n",
    "    out = minimum_filter(\n",
    "        maximum_filter(arr,20),\n",
    "        20)\n",
    "    return out"
   ]
  },
  {
   "cell_type": "code",
   "execution_count": 178,
   "metadata": {
    "collapsed": true
   },
   "outputs": [],
   "source": [
    "# Define 3D array of distances from lower and upper epidermises\n",
    "a = range(0,img2.shape[1])\n",
    "b = np.tile(a,(img2.shape[2],img2.shape[0],1))\n",
    "b = np.moveaxis(b,[0,1,2],[2,0,1])\n",
    "\n",
    "# Determine the lower edge of the spongy/palisade mesophyll\n",
    "c = (img2==146)\n",
    "d = (b*c)\n",
    "m_low = np.argmax(d, axis=1)\n",
    "\n",
    "# Determine the lower edge of the epidermis\n",
    "c = (img2==182)\n",
    "d = (b*c)\n",
    "e_low = np.argmax(d, axis=1)\n",
    "e_low = np.maximum(e_low, m_low) # Checks if mesophyll cells are below lower epidermis\n",
    "e_low = np.apply_along_axis(dbl_pct_filt, 0, arr = e_low)\n",
    "e_low = np.apply_along_axis(min_max_filt, 0, arr = e_low)\n",
    "e_low = np.apply_along_axis(min_max_filt, 0, arr = e_low)\n",
    "epi_low = np.zeros(img2.shape)\n",
    "for z in range(0,epi_low.shape[0]):\n",
    "    for x in range(0,epi_low.shape[2]):\n",
    "        epi_low[z,e_low[z,x],x] = 1\n",
    "\n",
    "# Determine the upper edge of the epidermis\n",
    "b2 = np.flip(b,1)\n",
    "d = (b2*c)\n",
    "e_up = np.argmax(d, axis=1)\n",
    "epi_up = np.zeros(img2.shape)\n",
    "for z in range(0,epi_up.shape[0]):\n",
    "    for x in range(0,epi_up.shape[2]):\n",
    "        epi_up[z,e_up[z,x],x] = 1\n",
    "\n",
    "# Combine the lower and upper edge of epidermis into a single numpy array\n",
    "epi_both = epi_up + epi_low"
   ]
  },
  {
   "cell_type": "code",
   "execution_count": 180,
   "metadata": {
    "collapsed": true
   },
   "outputs": [],
   "source": [
    "# Generate a binary stack with the pixels inside the epidermis set equal to 1\n",
    "epi_in = np.zeros(img.shape, dtype=np.uint16)\n",
    "for y in range(0,epi_in.shape[2]):\n",
    "    for z in range(0,epi_in.shape[0]):\n",
    "        epi_in[z,e_up[z,y]:e_low[z,y],y] = 1\n",
    "        \n",
    "# Generate a binary stack with the pixels outside the epidermis set equal to 1\n",
    "epi_out = (epi_in==0)*1"
   ]
  },
  {
   "cell_type": "code",
   "execution_count": 181,
   "metadata": {
    "collapsed": true
   },
   "outputs": [],
   "source": [
    "# Set all background identified as BG that lies within epidermal boundaries as IAS\n",
    "# Set all background identified as IAS that lies outside epidermal boundaries as BG\n",
    "img3 = np.array(img2, copy=True)\n",
    "img3[(img3==219)*(epi_out==1)] = 0\n",
    "img3[(img3==0)*(epi_in==1)] = 219"
   ]
  },
  {
   "cell_type": "code",
   "execution_count": 184,
   "metadata": {},
   "outputs": [
    {
     "data": {
      "image/png": "[encoded data removed]",
      "text/plain": [
       "<matplotlib.figure.Figure at 0x119ba4ed0>"
      ]
     },
     "metadata": {},
     "output_type": "display_data"
    },
    {
     "data": {
      "image/png": "[encoded data removed]",
      "text/plain": [
       "<matplotlib.figure.Figure at 0x1b4769550>"
      ]
     },
     "metadata": {},
     "output_type": "display_data"
    },
    {
     "data": {
      "image/png": "[encoded data removed]",
      "text/plain": [
       "<matplotlib.figure.Figure at 0x11d08c1d0>"
      ]
     },
     "metadata": {},
     "output_type": "display_data"
    }
   ],
   "source": [
    "slice = 100\n",
    "io.imshow(img[slice,:,:])\n",
    "io.show()\n",
    "io.imshow(img2[slice,:,:])\n",
    "io.show()\n",
    "io.imshow(img3[slice,:,:])\n",
    "io.show()"
   ]
  },
  {
   "cell_type": "code",
   "execution_count": 185,
   "metadata": {
    "collapsed": true
   },
   "outputs": [],
   "source": [
    "# Save post-processed predicted stack\n",
    "io.imsave('prediction_postprocess6.tif', img3)"
   ]
  }
 ],
 "metadata": {
  "kernelspec": {
   "display_name": "Python 2",
   "language": "python",
   "name": "python2"
  },
  "language_info": {
   "codemirror_mode": {
    "name": "ipython",
    "version": 2
   },
   "file_extension": ".py",
   "mimetype": "text/x-python",
   "name": "python",
   "nbconvert_exporter": "python",
   "pygments_lexer": "ipython2",
   "version": "2.7.14"
  }
 },
 "nbformat": 4,
 "nbformat_minor": 2
}
