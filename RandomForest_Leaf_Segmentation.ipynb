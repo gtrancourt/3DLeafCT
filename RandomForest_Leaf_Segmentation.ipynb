{
 "cells": [
  {
   "cell_type": "markdown",
   "metadata": {},
   "source": [
    "# Random forest machine learning classification of leaf microCT data\n",
    "#### Semi-automated segmentation of 3D microCT data into multiple classes: (1) background, (2) veins, (3) mesophyll cells, (4) bundle sheath tissue, and (5) intercellular airspace\n",
    "\n",
    "#### Last edited by: J. Mason Earles \n",
    "#### Date: 12/05/2017"
   ]
  },
  {
   "cell_type": "code",
   "execution_count": 1,
   "metadata": {
    "collapsed": true
   },
   "outputs": [],
   "source": [
    "# Import libraries\n",
    "import os\n",
    "import sklearn as skl\n",
    "import skimage.io as io\n",
    "from skimage import img_as_int, img_as_ubyte, img_as_float\n",
    "import numpy as np\n",
    "import matplotlib.pyplot as plt\n",
    "from sklearn.ensemble import RandomForestClassifier, GradientBoostingClassifier\n",
    "from sklearn.metrics import accuracy_score\n",
    "import pandas as pd\n",
    "import RFLeafSeg # reload(RFLeafSeg)\n",
    "from scipy import misc\n",
    "from skimage.util import invert\n",
    "from skimage import transform\n",
    "from sklearn.metrics import confusion_matrix"
   ]
  },
  {
   "cell_type": "markdown",
   "metadata": {},
   "source": [
    "### Image Loading and Pre-processing"
   ]
  },
  {
   "cell_type": "code",
   "execution_count": 2,
   "metadata": {
    "collapsed": true
   },
   "outputs": [],
   "source": [
    "# Set path to tiff stacks\n",
    "filepath = '../forBeth/'"
   ]
  },
  {
   "cell_type": "code",
   "execution_count": 3,
   "metadata": {
    "collapsed": true
   },
   "outputs": [],
   "source": [
    "# Read gridrec, phaserec, and label tif stacks\n",
    "gridrec_stack = io.imread(filepath + 'V_champ_gridrec.tif')\n",
    "phaserec_stack = io.imread(filepath + 'V_champ_phaserec.tif')\n",
    "label_stack = np.rollaxis(io.imread(filepath + 'label_stack_wBS.tif'),2,0)"
   ]
  },
  {
   "cell_type": "code",
   "execution_count": 4,
   "metadata": {
    "collapsed": true
   },
   "outputs": [],
   "source": [
    "# # Generate/load local thickness stack\n",
    "# # Uncomment as needed\n",
    "\n",
    "# # Generate binary thresholded image for input to local thickness function\n",
    "# # Set grid and phase threshold values for segmenting low and high absorption regions\n",
    "# # I typically use Fiji to subjectively and visually determine the 'best' value for each\n",
    "# Th_grid = -22.92 # grid rec threshold value\n",
    "# Th_phase = 0.37 # phase rec threshold value\n",
    "# GridPhase_Bin = RFLeafSeg.Threshold_GridPhase(gridrec_stack, phaserec_stack,Th_grid,Th_phase)\n",
    "\n",
    "# # Invert image\n",
    "# GridPhase_Bin_invert = invert(GridPhase_Bin)\n",
    "\n",
    "# # Downsample to 25%\n",
    "# GridPhase_Bin_invert = transform.rescale(GridPhase_Bin_invert, 0.25)\n",
    "\n",
    "# local_thick = RFLeafSeg.local_thickness(GridPhase_Bin_invert)\n",
    "# local_thick_upscale = transform.rescale(local_thick, 4, mode='reflect')\n",
    "\n",
    "# # Write as a tif file\n",
    "# io.imsave('local_thick_upscale.tif', local_thick_upscale)\n",
    "\n",
    "# Load local thickness stack, if already generated\n",
    "LocalThickness_CellVeins = io.imread(filepath + 'local_thick_upscale.tif')"
   ]
  },
  {
   "cell_type": "code",
   "execution_count": 5,
   "metadata": {
    "collapsed": true
   },
   "outputs": [],
   "source": [
    "# Match array dimensions to correct for resolution loss due to downsampling when generating local thickness\n",
    "gridrec_stack, local_thick_upscale = RFLeafSeg.match_array_dim(gridrec_stack,LocalThickness_CellVeins)\n",
    "phaserec_stack, local_thick_upscale = RFLeafSeg.match_array_dim(phaserec_stack,LocalThickness_CellVeins)\n",
    "label_stack = RFLeafSeg.match_array_dim(label_stack,LocalThickness_CellVeins)[0]"
   ]
  },
  {
   "cell_type": "code",
   "execution_count": null,
   "metadata": {
    "collapsed": true
   },
   "outputs": [],
   "source": [
    "# Plot some of the images to make sure everything looks correct\n",
    "for i in range(0,4):\n",
    "    io.imshow(label_stack[i,:,:])\n",
    "    io.show()\n",
    "\n",
    "for i in [55,99,160,248]:    \n",
    "    io.imshow(LocalThickness_CellVeins[i,:,:])\n",
    "    io.show()\n",
    "    \n",
    "for i in [55,99,160,248]:    \n",
    "    io.imshow(phaserec_stack[i,:,:], cmap='gray')\n",
    "    io.show()\n",
    "\n",
    "print(label_stack.shape)\n",
    "print(gridrec_stack.shape)"
   ]
  },
  {
   "cell_type": "code",
   "execution_count": null,
   "metadata": {
    "collapsed": true
   },
   "outputs": [],
   "source": [
    "# Check shapes of stacks to make ensure that they match\n",
    "print(gridrec_stack.shape)\n",
    "print(phaserec_stack.shape)\n",
    "print(label_stack.shape)\n",
    "print(LocalThickness_CellVeins.shape)"
   ]
  },
  {
   "cell_type": "code",
   "execution_count": null,
   "metadata": {
    "collapsed": true
   },
   "outputs": [],
   "source": [
    "# Define image subsets for training and testing\n",
    "gridphase_train_slices_subset = [99,248] # 99 for training of Vitis champ.\n",
    "gridphase_test_slices_subset = [55,160] # 55, 160 and 248 for testing of Vitis champ.\n",
    "label_train_slices_subset = [1,3] # corresponding slice from the label stack\n",
    "label_test_slices_subset = [0,2] # corresponding slice from the label stack"
   ]
  },
  {
   "cell_type": "code",
   "execution_count": null,
   "metadata": {
    "collapsed": true
   },
   "outputs": [],
   "source": [
    "# Generate training and testing feature layer array\n",
    "FL_train_transverse = RFLeafSeg.GenerateFL2(gridrec_stack, phaserec_stack, LocalThickness_CellVeins, gridphase_train_slices_subset, \"transverse\")\n",
    "FL_test_transverse = RFLeafSeg.GenerateFL2(gridrec_stack, phaserec_stack, LocalThickness_CellVeins, gridphase_test_slices_subset, \"transverse\")"
   ]
  },
  {
   "cell_type": "code",
   "execution_count": null,
   "metadata": {
    "collapsed": true
   },
   "outputs": [],
   "source": [
    "# Load and encode label image vectors\n",
    "Label_train_transverse = RFLeafSeg.LoadLabelData(label_stack, label_train_slices_subset, \"transverse\")\n",
    "Label_test_transverse = RFLeafSeg.LoadLabelData(label_stack, label_test_slices_subset, \"transverse\")"
   ]
  },
  {
   "cell_type": "code",
   "execution_count": null,
   "metadata": {
    "collapsed": true
   },
   "outputs": [],
   "source": [
    "# Check the dimensions of the feature array and label vector to ensure that they are the same dimensions\n",
    "print(FL_train_transverse.shape)\n",
    "print(Label_train_transverse.shape)"
   ]
  },
  {
   "cell_type": "markdown",
   "metadata": {},
   "source": [
    "### Train model"
   ]
  },
  {
   "cell_type": "code",
   "execution_count": null,
   "metadata": {
    "collapsed": true
   },
   "outputs": [],
   "source": [
    "# Define Random Forest classifier parameters and fit model\n",
    "rf_transverse = RandomForestClassifier(n_estimators=50, verbose=True, oob_score=True, n_jobs=4, warm_start=False) #, class_weight=\"balanced\")\n",
    "rf_transverse = rf_transverse.fit(FL_train_transverse, Label_train_transverse)"
   ]
  },
  {
   "cell_type": "code",
   "execution_count": null,
   "metadata": {
    "collapsed": true
   },
   "outputs": [],
   "source": [
    "# Save model to disk # This can be a pretty large file -- ~2 Gb\n",
    "# import pickle\n",
    "# filename = 'RF_Vitus_champ_model.sav'\n",
    "# pickle.dump(rf_transverse, open(filename, 'wb'))\n",
    "\n",
    "#load the model from disk\n",
    "#rf = pickle.load(open(filename, 'rb'))"
   ]
  },
  {
   "cell_type": "markdown",
   "metadata": {},
   "source": [
    "### Examine prediction metrics on training dataset"
   ]
  },
  {
   "cell_type": "code",
   "execution_count": null,
   "metadata": {
    "collapsed": true
   },
   "outputs": [],
   "source": [
    "# Print out of bag precition accuracy\n",
    "print('Our out-of-bag (OOB) prediction of accuracy for is: {oob}%'.format(oob=rf_transverse.oob_score_ * 100))"
   ]
  },
  {
   "cell_type": "code",
   "execution_count": null,
   "metadata": {
    "collapsed": true
   },
   "outputs": [],
   "source": [
    "# Print feature layer importance\n",
    "# See RFLeafSeg module for corresponding feature layer types\n",
    "feature_layers = range(0,len(rf_transverse.feature_importances_))\n",
    "for fl, imp in zip(feature_layers, rf_transverse.feature_importances_):\n",
    "    print('Feature_layer {fl} importance: {imp}'.format(fl=fl, imp=imp))\n",
    "#print('none')"
   ]
  },
  {
   "cell_type": "markdown",
   "metadata": {},
   "source": [
    "### Predict single slices from test dataset"
   ]
  },
  {
   "cell_type": "code",
   "execution_count": null,
   "metadata": {
    "collapsed": true
   },
   "outputs": [],
   "source": [
    "# Make prediction on test set\n",
    "class_prediction_transverse = rf_transverse.predict(FL_test_transverse)\n",
    "class_prediction_transverse_prob = rf_transverse.predict_proba(FL_test_transverse)"
   ]
  },
  {
   "cell_type": "code",
   "execution_count": null,
   "metadata": {
    "collapsed": true
   },
   "outputs": [],
   "source": [
    "# Generate confusion matrix for transverse section\n",
    "cf_mat1 = pd.crosstab(Label_test_transverse, class_prediction_transverse, rownames=['Actual'], colnames=['Predicted'])"
   ]
  },
  {
   "cell_type": "code",
   "execution_count": null,
   "metadata": {
    "collapsed": true
   },
   "outputs": [],
   "source": [
    "# Generate normalized confusion matrix for transverse section\n",
    "pd.crosstab(Label_test_transverse, class_prediction_transverse, rownames=['Actual'], colnames=['Predicted'], normalize='index')"
   ]
  },
  {
   "cell_type": "code",
   "execution_count": null,
   "metadata": {
    "collapsed": true
   },
   "outputs": [],
   "source": [
    "class_prediction_transverse2 = np.copy(class_prediction_transverse)\n",
    "class_prediction_transverse2[class_prediction_transverse==1] = 2\n",
    "#class_prediction_transverse2[class_prediction_transverse2==3] = 4\n",
    "Label_test_transverse2 = np.copy(Label_test_transverse)\n",
    "Label_test_transverse2[Label_test_transverse==1] = 2\n",
    "#Label_test_transverse2[Label_test_transverse2==3] = 4\n",
    "pd.crosstab(Label_test_transverse2, class_prediction_transverse2, rownames=['Actual'], colnames=['Predicted'], normalize='index')\n",
    "cf_mat2 = pd.crosstab(Label_test_transverse2, class_prediction_transverse2, rownames=['Actual'], colnames=['Predicted'])\n",
    "print(cf_mat2)"
   ]
  },
  {
   "cell_type": "code",
   "execution_count": null,
   "metadata": {
    "collapsed": true
   },
   "outputs": [],
   "source": [
    "# Total accuracy\n",
    "print(float(np.diag(cf_mat2).sum())/float(cf_mat2.sum().sum()))\n",
    "\n",
    "# Class precision\n",
    "print(np.diag(cf_mat2)/np.sum(cf_mat2,1), \"precision\")\n",
    "\n",
    "# Class recall\n",
    "print(np.diag(cf_mat2)/np.sum(cf_mat2,0), \"recall\")"
   ]
  },
  {
   "cell_type": "code",
   "execution_count": null,
   "metadata": {
    "collapsed": true
   },
   "outputs": [],
   "source": [
    "%matplotlib inline\n",
    "# fig = plt.figure(figsize = (15,15))\n",
    "# io.imshow(GridPhase_Bin[100,:,:])class_prediction_transverse_prob.shape"
   ]
  },
  {
   "cell_type": "code",
   "execution_count": null,
   "metadata": {
    "collapsed": true
   },
   "outputs": [],
   "source": [
    "# Reshape arrays for plotting images of class probabilities, predicted classes, observed classes, and feature layer of interest\n",
    "prediction_transverse_prob_imgs = class_prediction_transverse_prob.reshape((\n",
    "    -1,\n",
    "    label_stack.shape[1],\n",
    "    label_stack.shape[2],\n",
    "    5),\n",
    "    order=\"F\")\n",
    "prediction_transverse_imgs = class_prediction_transverse.reshape((\n",
    "    -1,\n",
    "    label_stack.shape[1],\n",
    "    label_stack.shape[2]),\n",
    "    order=\"F\")\n",
    "observed_transverse_imgs = Label_test_transverse.reshape((\n",
    "    -1,\n",
    "    label_stack.shape[1],\n",
    "    label_stack.shape[2]),\n",
    "    order=\"F\")\n",
    "FL_transverse_imgs = FL_test_transverse.reshape((\n",
    "    -1,\n",
    "    label_stack.shape[1],\n",
    "    label_stack.shape[2],\n",
    "    36),\n",
    "    order=\"F\")"
   ]
  },
  {
   "cell_type": "code",
   "execution_count": null,
   "metadata": {
    "collapsed": true
   },
   "outputs": [],
   "source": [
    "# Plot images of class probabilities, predicted classes, observed classes, and feature layer of interest\n",
    "%matplotlib inline\n",
    "for i in range(0,prediction_transverse_imgs.shape[2]):\n",
    "    io.imshow(prediction_transverse_prob_imgs[i,:,:,3], cmap=\"RdYlBu\")\n",
    "    io.show()\n",
    "    io.imshow(observed_transverse_imgs[i,:,:])\n",
    "    io.show()\n",
    "    io.imshow(prediction_transverse_imgs[i,:,:])\n",
    "    io.show()\n",
    "    io.imshow(phaserec_stack[260,:,:], cmap=\"gray\")\n",
    "    io.show()\n",
    "    io.imshow(FL_transverse_imgs[0,:,:,26], cmap=\"gray\")\n",
    "    io.show()b"
   ]
  },
  {
   "cell_type": "markdown",
   "metadata": {},
   "source": [
    "### Predict all slices in 3D microCT stack"
   ]
  },
  {
   "cell_type": "code",
   "execution_count": null,
   "metadata": {
    "collapsed": true
   },
   "outputs": [],
   "source": [
    "# Predict all slices in 3D microCT stack\n",
    "RFPredictCTStack_out = RFLeafSeg.RFPredictCTStack(rf_transverse,gridrec_stack, phaserec_stack, LocalThickness_CellVeins,\"transverse\")"
   ]
  },
  {
   "cell_type": "markdown",
   "metadata": {},
   "source": [
    "### Calculate performance metrics"
   ]
  },
  {
   "cell_type": "code",
   "execution_count": null,
   "metadata": {
    "collapsed": true
   },
   "outputs": [],
   "source": [
    "# Performance metrics\n",
    "test_slices = (55,160)\n",
    "label_slices = (0,2)\n",
    "\n",
    "# Generate absolute confusion matrix\n",
    "confusion_matrix = pd.crosstab(RFPredictCTStack_out[test_slices,:,:].ravel(order=\"F\"),\n",
    "                               label_stack[label_slices,:,:].ravel(order=\"F\"),\n",
    "                               rownames=['Actual'], colnames=['Predicted'])\n",
    "\n",
    "# Generate normalized confusion matrix\n",
    "confusion_matrix_norm = pd.crosstab(RFPredictCTStack_out[test_slices,:,:].ravel(order=\"F\"),\n",
    "                               label_stack[label_slices,:,:].ravel(order=\"F\"),\n",
    "                               rownames=['Actual'], colnames=['Predicted'])\n",
    "\n",
    "# Total accuracy\n",
    "print(np.diag(confusion_matrix).sum()/RFPredictCTStack_out[test_slices,:,:].sum())\n",
    "\n",
    "# Class precision\n",
    "print(np.diag(confusion_matrix)/np.sum(confusion_matrix,1), \"precision\")\n",
    "\n",
    "# Class recall\n",
    "print(np.diag(confusion_matrix)/np.sum(confusion_matrix,0), \"recall\")"
   ]
  },
  {
   "cell_type": "markdown",
   "metadata": {},
   "source": [
    "### Save segmented and classified stack as TIFF file"
   ]
  },
  {
   "cell_type": "code",
   "execution_count": null,
   "metadata": {
    "collapsed": true
   },
   "outputs": [],
   "source": [
    "# Save classified stack\n",
    "io.imsave('Vitis_champ_Predicted_wBS.tif',img_as_int(RFPredictCTStack_out/6))"
   ]
  },
  {
   "cell_type": "code",
   "execution_count": null,
   "metadata": {
    "collapsed": true
   },
   "outputs": [],
   "source": []
  }
 ],
 "metadata": {
  "kernelspec": {
   "display_name": "Python 2",
   "language": "python",
   "name": "python2"
  },
  "language_info": {
   "codemirror_mode": {
    "name": "ipython",
    "version": 2
   },
   "file_extension": ".py",
   "mimetype": "text/x-python",
   "name": "python",
   "nbconvert_exporter": "python",
   "pygments_lexer": "ipython2",
   "version": "2.7.13"
  }
 },
 "nbformat": 4,
 "nbformat_minor": 2
}
